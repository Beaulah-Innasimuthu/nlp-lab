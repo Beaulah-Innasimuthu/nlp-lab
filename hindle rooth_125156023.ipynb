{
 "cells": [
  {
   "cell_type": "code",
   "execution_count": 7,
   "id": "8cf05535",
   "metadata": {},
   "outputs": [],
   "source": [
    "import math as m"
   ]
  },
  {
   "cell_type": "code",
   "execution_count": 1,
   "id": "0f4f7d86",
   "metadata": {},
   "outputs": [
    {
     "name": "stdout",
     "output_type": "stream",
     "text": [
      "Enter verb, noun, preposition, verb count, verb+preposition count, noun count, noun+preposition count (in order, separated by spaces): end venture with 5156 607 1442 155\n"
     ]
    }
   ],
   "source": [
    "user_input = input(\"Enter verb, noun, preposition, verb count, verb+preposition count, noun count, noun+preposition count (in order, separated by spaces): \")"
   ]
  },
  {
   "cell_type": "code",
   "execution_count": 8,
   "id": "75505888",
   "metadata": {},
   "outputs": [],
   "source": [
    "values = user_input.split()"
   ]
  },
  {
   "cell_type": "code",
   "execution_count": 9,
   "id": "c4e8b1e5",
   "metadata": {},
   "outputs": [],
   "source": [
    "if len(values) == 7:\n",
    "    v = values[0]\n",
    "    n = values[1]\n",
    "    pp = values[2]\n",
    "    v_num = int(values[3])\n",
    "    vpp_num = int(values[4])\n",
    "    n_num = int(values[5])\n",
    "    npp_num = int(values[6])\n",
    "else:\n",
    "    print(\"Please enter all 7 values as described.\")\n"
   ]
  },
  {
   "cell_type": "code",
   "execution_count": 10,
   "id": "b48ec329",
   "metadata": {},
   "outputs": [
    {
     "name": "stdout",
     "output_type": "stream",
     "text": [
      "Noun\n"
     ]
    }
   ],
   "source": [
    "v_a=vpp_num/v_num\n",
    "n_a=npp_num/n_num\n",
    "n_na=1-n_a\n",
    "res=(v_a*n_na)/n_a\n",
    "res=m.log2(res)\n",
    "if res>0:\n",
    "    print(\"Verb\")\n",
    "else:\n",
    "    print(\"Noun\")"
   ]
  },
  {
   "cell_type": "code",
   "execution_count": null,
   "id": "f2e9ade4",
   "metadata": {},
   "outputs": [],
   "source": []
  }
 ],
 "metadata": {
  "kernelspec": {
   "display_name": "Python 3 (ipykernel)",
   "language": "python",
   "name": "python3"
  },
  "language_info": {
   "codemirror_mode": {
    "name": "ipython",
    "version": 3
   },
   "file_extension": ".py",
   "mimetype": "text/x-python",
   "name": "python",
   "nbconvert_exporter": "python",
   "pygments_lexer": "ipython3",
   "version": "3.10.9"
  }
 },
 "nbformat": 4,
 "nbformat_minor": 5
}
